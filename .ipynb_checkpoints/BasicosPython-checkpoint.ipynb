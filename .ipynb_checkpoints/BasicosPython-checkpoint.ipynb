{
 "cells": [
  {
   "cell_type": "markdown",
   "metadata": {},
   "source": [
    "<h1 style = 'text-align:center'>\n",
    "Bienvenidos al curso de básicos de python!\n",
    "</h1>\n",
    "<center>\n",
    "<img src = 'https://scontent.fmex10-2.fna.fbcdn.net/v/t1.0-9/118343119_113233783831611_9219337719937477698_o.png?_nc_cat=102&_nc_sid=09cbfe&_nc_ohc=R-1ZQ2HIIS8AX8BJJQ-&_nc_ht=scontent.fmex10-2.fna&oh=903d344ae760a69e7fa26e9803825550&oe=5F9AA7D4'\n",
    "alt = 'DSC' height = '350' width = '550'>\n",
    "\n",
    "</center>"
   ]
  },
  {
   "cell_type": "markdown",
   "metadata": {},
   "source": [
    "# <h3 style='text-align:center'>¿Qué es Python?</h3>"
   ]
  },
  {
   "cell_type": "markdown",
   "metadata": {},
   "source": [
    "<img src='https://upload.wikimedia.org/wikipedia/commons/thumb/0/0a/Python.svg/1200px-Python.svg.png' alt='python-logo' height='200' width='200'></img>\n",
    "<p style='text-align: justify'>Python es un lenguaje de programación interpretado, multiparadigma </p>\n",
    "<p style='text-align: justify'>Esto significa que los programadores pueden adoptar el estílo que más les convenga, el lenguaje no obliga el uso de algún paradigma en específico. Estos pueden ser los siguientes:\n",
    "</p>\n",
    "\n",
    "   - Programación orientada a objetos\n",
    "    \n",
    "   - Programación imperativa\n",
    "    \n",
    "   - Programación funcional"
   ]
  },
  {
   "cell_type": "markdown",
   "metadata": {},
   "source": [
    "<h1>Operadores Aritméticos en python<h1>"
   ]
  },
  {
   "cell_type": "markdown",
   "metadata": {},
   "source": [
    "<h2>Suma</h2>\n",
    "    <p>Dependiendo de que tipo de dato estemos ocupando el operador suma se comportara diferente forma\n",
    "    <br>Ejemplo: \n",
    "    <br>- 2 enteros\n",
    "    <br>- 2 float\n",
    "    <br>- 2 booleano\n",
    "    <br>- 2 cadenas de caracteres\n",
    "</p>"
   ]
  },
  {
   "cell_type": "code",
   "execution_count": null,
   "metadata": {},
   "outputs": [],
   "source": [
    "#Con 2 enteros \n",
    "2 + 2"
   ]
  },
  {
   "cell_type": "code",
   "execution_count": null,
   "metadata": {},
   "outputs": [],
   "source": [
    "#Con 2 float\n",
    "1.3 + 1.4 "
   ]
  },
  {
   "cell_type": "code",
   "execution_count": null,
   "metadata": {},
   "outputs": [],
   "source": [
    "#Booleano\n",
    "True + True"
   ]
  },
  {
   "cell_type": "code",
   "execution_count": null,
   "metadata": {},
   "outputs": [],
   "source": [
    "#Con 2 Cadenas de Caracteres\n",
    "'Hola' + ' Mundo'"
   ]
  },
  {
   "cell_type": "markdown",
   "metadata": {},
   "source": [
    "<h2>Resta</h2>\n",
    "    <p>Dependiendo de que tipo de dato estemos ocupando el operador resta se comportara diferente forma\n",
    "    <br>Ejemplo: \n",
    "    <br>- 2 enteros\n",
    "    <br>- 2 float\n",
    "    <br>- 2 booleano\n",
    "    <br>- 2 cadenas de caracteres\n",
    "</p>"
   ]
  },
  {
   "cell_type": "code",
   "execution_count": null,
   "metadata": {},
   "outputs": [],
   "source": [
    "#Con 2 enteros \n",
    "7 - 2"
   ]
  },
  {
   "cell_type": "code",
   "execution_count": null,
   "metadata": {},
   "outputs": [],
   "source": [
    "#Con 2 float\n",
    "1.3 - 1.4 "
   ]
  },
  {
   "cell_type": "code",
   "execution_count": null,
   "metadata": {},
   "outputs": [],
   "source": [
    "#Booleano\n",
    "True - True"
   ]
  },
  {
   "cell_type": "code",
   "execution_count": null,
   "metadata": {},
   "outputs": [],
   "source": [
    "#Con 2 Cadenas de Caracteresdara error ya que este operador no funciona con Strings\n",
    "#'Hola' - ' Mundo'"
   ]
  },
  {
   "cell_type": "markdown",
   "metadata": {},
   "source": [
    "<h2>Multiplicacion</h2>\n",
    "    <p>Dependiendo de que tipo de dato estemos ocupando el operador multiplicacion se comportara diferente forma\n",
    "    <br>Ejemplo: \n",
    "    <br>- 2 enteros\n",
    "    <br>- 2 float\n",
    "    <br>- 2 booleano\n",
    "    <br>- 2 cadenas de caracteres\n",
    "    <br>- Multiplicar cadenas por un entero\n",
    "</p>"
   ]
  },
  {
   "cell_type": "code",
   "execution_count": null,
   "metadata": {},
   "outputs": [],
   "source": [
    "#Con 2 enteros \n",
    "7 * 2"
   ]
  },
  {
   "cell_type": "code",
   "execution_count": null,
   "metadata": {},
   "outputs": [],
   "source": [
    "#Con 2 float \n",
    "7.12 * 2.21"
   ]
  },
  {
   "cell_type": "code",
   "execution_count": null,
   "metadata": {},
   "outputs": [],
   "source": [
    "#Con 2 enteros \n",
    "True * True"
   ]
  },
  {
   "cell_type": "code",
   "execution_count": null,
   "metadata": {},
   "outputs": [],
   "source": [
    "#Con 2 Cadenas de Caracteres\n",
    "#Esta operacion nos dara un error como el siguiente \n",
    "#TypeError: can't multiply sequence by non-int of type 'str'\n",
    "#'Hola' * ' Mundo'"
   ]
  },
  {
   "cell_type": "code",
   "execution_count": null,
   "metadata": {},
   "outputs": [],
   "source": [
    "#Podemos multiplicar cadenas de caracteres\n",
    "'Google '*10"
   ]
  },
  {
   "cell_type": "markdown",
   "metadata": {},
   "source": [
    "<h2>Exponente</h2>\n",
    "    <p>Dependiendo de que tipo de dato estemos ocupando el operador exponente se comportara diferente forma\n",
    "    <br>Ejemplo: \n",
    "    <br>- 2 enteros\n",
    "    <br>- 2 float\n",
    "    <br>- 2 booleano\n",
    "    <br>- 2 cadenas de caracteres\n",
    "    <br>- Multiplicar cadenas por un entero\n",
    "    <br>- Agregar e y E***\n",
    "</p>"
   ]
  },
  {
   "cell_type": "code",
   "execution_count": null,
   "metadata": {},
   "outputs": [],
   "source": [
    "#Con 2 enteros \n",
    "7 ** 2"
   ]
  },
  {
   "cell_type": "code",
   "execution_count": null,
   "metadata": {},
   "outputs": [],
   "source": [
    "#Con 2 float \n",
    "7.3 ** 2.1"
   ]
  },
  {
   "cell_type": "code",
   "execution_count": null,
   "metadata": {},
   "outputs": [],
   "source": [
    "#Con 2 enteros \n",
    "True ** True"
   ]
  },
  {
   "cell_type": "code",
   "execution_count": null,
   "metadata": {},
   "outputs": [],
   "source": [
    "#Con 2 Cadenas de Caracteres\n",
    "#Esta operacion nos dara un error como el siguiente \n",
    "#TypeError: unsupported operand type(s) for ** or pow(): 'str' and 'str'\n",
    "#'Hola' ** ' Mundo'"
   ]
  },
  {
   "cell_type": "markdown",
   "metadata": {},
   "source": [
    "<h2>División</h2>\n",
    "    <p>El operador division regresa las veces que cabe el dividendo en el divisor de manera exacta teniedo en cuenta los decimales\n",
    "    <br>Ejemplo: \n",
    "    <br>- 2 enteros\n",
    "    <br>- 2 float\n",
    "</p>"
   ]
  },
  {
   "cell_type": "code",
   "execution_count": null,
   "metadata": {},
   "outputs": [],
   "source": [
    "#Division de 2 enteros\n",
    "2 / 4"
   ]
  },
  {
   "cell_type": "code",
   "execution_count": null,
   "metadata": {},
   "outputs": [],
   "source": [
    "#Division de 2 float\n",
    "5.5 / 7.7"
   ]
  },
  {
   "cell_type": "markdown",
   "metadata": {},
   "source": [
    "<h2>División entera</h2>\n",
    "    <p>El operador division entera solo toma en cuenta cuantas veces entra el dividendo en el divisor sin tener en cuenta el residuo\n",
    "    <br>Ejemplo: \n",
    "    <br>- 2 enteros\n",
    "    <br>- 2 float\n",
    "</p>"
   ]
  },
  {
   "cell_type": "code",
   "execution_count": null,
   "metadata": {},
   "outputs": [],
   "source": [
    "#Division de 2 enteros\n",
    "10 // 3"
   ]
  },
  {
   "cell_type": "code",
   "execution_count": null,
   "metadata": {},
   "outputs": [],
   "source": [
    "#Division de 2 float\n",
    "105.5 // 7.7"
   ]
  },
  {
   "cell_type": "markdown",
   "metadata": {},
   "source": [
    "<h2>Modulo</h2>\n",
    "    <p>Cuando hacemos la division exacta no tenemos en cuenta el residuo ,la operacion mudulo lo unico que no regresa es ese residuo<br> por ejemplo en la division 10 / 3 el '3' cabe '3' en el 10 y sobra '1' , la operacion division entera nos regresara el '3' y el modulo nos regresara el '1'</p>\n",
    "    "
   ]
  },
  {
   "cell_type": "code",
   "execution_count": null,
   "metadata": {},
   "outputs": [],
   "source": [
    "#Modulo de 2 enteros\n",
    "10 // 3 "
   ]
  },
  {
   "cell_type": "code",
   "execution_count": null,
   "metadata": {},
   "outputs": [],
   "source": [
    "#Modulo de 2 enteros\n",
    "105.5 % 7.7"
   ]
  },
  {
   "cell_type": "markdown",
   "metadata": {},
   "source": [
    "<h2>Variables</h2>\n",
    "    <p> Una variable se puede entender como una especie de caja en la que se puede guardar un valor (por ejemplo, un valor numérico). <br>Esa caja suele corresponder a una posición de memoria en la memoria del ordenador.</p>"
   ]
  },
  {
   "cell_type": "code",
   "execution_count": null,
   "metadata": {},
   "outputs": [],
   "source": [
    "#Creamos un entero\n",
    "el_entero = 10\n",
    "#Creamos un float\n",
    "el_flotante = 15.5\n",
    "#Creamos una cadena de caracteres\n",
    "cadena = 'Hola nuevos programadores de python'\n",
    "#Creamos un un lista\n",
    "la_lista = ['Pablo', 'Luis','Devars']\n",
    "#Creamos un bool\n",
    "la_variable_logica = True\n",
    "\n"
   ]
  },
  {
   "cell_type": "code",
   "execution_count": null,
   "metadata": {},
   "outputs": [],
   "source": [
    "#Ahora veremos que tipo de dato es cada uno de las siguientes variables\n",
    "print(type(el_entero) , type(el_flotante), type(cadena) , type(la_lista),type(la_variable_logica))\n",
    "\n"
   ]
  },
  {
   "cell_type": "markdown",
   "metadata": {},
   "source": [
    " <h3 style='text-align:center'>Tipos de datos</h3>"
   ]
  },
  {
   "cell_type": "markdown",
   "metadata": {},
   "source": [
    "|Tipo | Clase | Notas | Ejemplo\n",
    "| --  |  --   |--     | --\n",
    "|str|Cadena|Inmutable|'Cadena'\n",
    "|unicode|Cadena|Versión Unicode de str|u'Cadena'\n",
    "|list|Secuencia|Mutable, puede contener objetos de diversos tipos|[4.0, 'Cadena', True]\n",
    "|tuple|Secuencia|Inmutable, puede contener objetos de diversos tipo|(4.0, 'Cadena', True)\n",
    "|set|Conjunto|Mutable, sin orden, no contiene duplicados |set([4.0, 'Cadena', True]) \n",
    "|frozenset|Conjunto|Inmutable, sin orden, no contiene duplicados |frozenset([4.0, 'Cadena', True]) \n",
    "|dict|Mapping|Grupo de pares clave:valor | {'key1': 1.0, 'key2': False} \n",
    "|int|Número entero |Precisión fija, convertido en long en caso de overflow. | 42\n",
    "|long|Número entero |Precisión arbitraria | 42L ó 456966786151987643L \n",
    "|float|Número decimal |Coma flotante de doble precisión |3.1415927 \n",
    "|complex |Número complejo |Parte real y parte imaginaria | (4.5 + 3j) \n",
    "|bool |Booleano|Valor booleano verdadero o falso | True o False "
   ]
  },
  {
   "cell_type": "markdown",
   "metadata": {},
   "source": [
    "<h2>Operadores logicos </h2>\n",
    "<p>Son los distintos tipos de operadores con los que puede trabajar con valores booleanos"
   ]
  },
  {
   "cell_type": "markdown",
   "metadata": {},
   "source": [
    "<p>Operador and\n",
    "<br>Ejemplo :\n",
    "<br>Axel  programa y Luis programa \n",
    "<br>Operador or\n",
    "<br>Axel programa  o Luis programa\n",
    "<br>Operador not\n",
    "<br>No va a la escuela Axel"
   ]
  },
  {
   "cell_type": "code",
   "execution_count": null,
   "metadata": {},
   "outputs": [],
   "source": [
    "axel_programa = True \n",
    "luis_programa = True\n",
    "programan_los_dos = axel_programa and luis_programa\n",
    "print(programan_los_dos)"
   ]
  },
  {
   "cell_type": "code",
   "execution_count": null,
   "metadata": {},
   "outputs": [],
   "source": [
    "axel_programa = False\n",
    "luis_programa = False\n",
    "programa_alguno = axel_programa or luis_programa\n",
    "print(programa_alguno)"
   ]
  },
  {
   "cell_type": "code",
   "execution_count": null,
   "metadata": {},
   "outputs": [],
   "source": [
    "axel_v_escuela = False\n",
    "respuesta = not axel_v_escuela\n",
    "print(respuesta)"
   ]
  },
  {
   "cell_type": "markdown",
   "metadata": {},
   "source": [
    "## Estructuras de control "
   ]
  },
  {
   "cell_type": "markdown",
   "metadata": {},
   "source": [
    "En python, al igual que en C/C++ y prácticamente cualquier lenguaje de programación, disponemos de estuctruras de control condicionales e iterativas, tales como If-else, For, While, sin embargo no se cuenta con Switch"
   ]
  },
  {
   "cell_type": "markdown",
   "metadata": {},
   "source": [
    "La indentación, define los bloques de código, no existen los corchetes"
   ]
  },
  {
   "cell_type": "markdown",
   "metadata": {},
   "source": [
    "#### IF"
   ]
  },
  {
   "cell_type": "code",
   "execution_count": null,
   "metadata": {},
   "outputs": [],
   "source": [
    "x=10\n",
    "y=20\n",
    "if x > y :\n",
    "  print(\" X es mayor \")#Se aprecia la indentación\n",
    "else :\n",
    "  print(\" Y es mayor \")"
   ]
  },
  {
   "cell_type": "markdown",
   "metadata": {},
   "source": [
    "#### Elif"
   ]
  },
  {
   "cell_type": "code",
   "execution_count": 1,
   "metadata": {},
   "outputs": [
    {
     "name": "stdout",
     "output_type": "stream",
     "text": [
      " X es menor que 500 \n"
     ]
    }
   ],
   "source": [
    "x=45\n",
    "if x > 500 :\n",
    "  print(\" X es mayor que 500 \")\n",
    "elif x < 500 :                 #elif es Else If\n",
    "  print(\" X es menor que 500 \")\n",
    "elif x == 500 :\n",
    "  print(\" X es 500 \")\n",
    "else :\n",
    "  print(\" X no es un número \")"
   ]
  },
  {
   "cell_type": "markdown",
   "metadata": {},
   "source": [
    "#### While"
   ]
  },
  {
   "cell_type": "code",
   "execution_count": 13,
   "metadata": {},
   "outputs": [
    {
     "name": "stdout",
     "output_type": "stream",
     "text": [
      "12\n",
      "13\n",
      "14\n",
      "15\n",
      "16\n",
      "17\n",
      "18\n",
      "19\n",
      "20\n",
      "After Break\n"
     ]
    }
   ],
   "source": [
    "x=10\n",
    "while True:\n",
    "  x+=1;\n",
    "  if x == 11:\n",
    "    continue\n",
    "  print (x)\n",
    "  if x==20:\n",
    "    break\n",
    "print(\"After Break\")"
   ]
  },
  {
   "cell_type": "markdown",
   "metadata": {},
   "source": [
    "### For"
   ]
  },
  {
   "cell_type": "markdown",
   "metadata": {},
   "source": [
    "El ciclo for lo utilizamos para iterar entre los elementos de listas, diccionarios, arreglos, etc. "
   ]
  },
  {
   "cell_type": "code",
   "execution_count": null,
   "metadata": {},
   "outputs": [],
   "source": [
    "for index in range(5): #Range regresa una lista [0,1,2,3,4]\n",
    "    print(index)"
   ]
  },
  {
   "cell_type": "markdown",
   "metadata": {},
   "source": [
    "## Funciones"
   ]
  },
  {
   "cell_type": "code",
   "execution_count": null,
   "metadata": {},
   "outputs": [],
   "source": [
    "Chicharronera"
   ]
  },
  {
   "cell_type": "markdown",
   "metadata": {},
   "source": [
    "Ejemplo con multiplicacion"
   ]
  },
  {
   "cell_type": "code",
   "execution_count": null,
   "metadata": {},
   "outputs": [],
   "source": [
    "def suma(a,b):\n",
    "    return a + b\n",
    "print('HOla')"
   ]
  },
  {
   "cell_type": "code",
   "execution_count": null,
   "metadata": {
    "tags": []
   },
   "outputs": [],
   "source": [
    "# El tipo de dato string se puede 'unir' con ' + ', a esto se le conoce como concatenar. \n",
    "string1 = 'La irregularidad la llevo'\n",
    "string2 = ' en la sangre.'\n",
    "print(suma(string1,string2))"
   ]
  },
  {
   "cell_type": "code",
   "execution_count": null,
   "metadata": {
    "tags": []
   },
   "outputs": [],
   "source": [
    "x = 1#int\n",
    "y = 2 #int\n",
    "z = 3.0 #float\n",
    "print(suma(x,y)) # int + int = int\n",
    "print(suma(x,z)) # int + float = float"
   ]
  },
  {
   "cell_type": "markdown",
   "metadata": {},
   "source": [
    "<h3 style='text-align:center'>Listas</h3>"
   ]
  },
  {
   "cell_type": "code",
   "execution_count": null,
   "metadata": {
    "tags": []
   },
   "outputs": [],
   "source": [
    "#Las listas pueden almacenar todos los tipos de datos y se puede ingresar a ellas mediante un indice o iterando sus elementos\n",
    "variado = ['string', 133, 13.33333, ('estanoesuntuple', 10), {'manzana':'verde', 'fresa':'roja'}]\n",
    "for i in variado:\n",
    "    print(i)\n",
    "\n",
    "print('\\n\\n', variado[1])"
   ]
  },
  {
   "cell_type": "code",
   "execution_count": null,
   "metadata": {
    "tags": []
   },
   "outputs": [],
   "source": [
    "#Algunos metodos para trabajar con listas\n",
    "variado.append('Nuevo elemento') #Añade un nuevo elemento al final de la lista\n",
    "print(variado, '\\n')\n",
    "variado.pop(3)#Elimina al elemento en el índice indicado\n",
    "print(variado, '\\n')\n",
    "variado.reverse() #Iniverte el orden de la lista\n",
    "print(variado, '\\n')\n",
    "'''Otros métodos que existen son:\n",
    "lista.sort() ordena la lista ascendentemente\n",
    "lista.count( elemento ) devuelve un valor entero de las veces que se repite 'elemento\n",
    "lista.clear() vacía la lista\n",
    "'''"
   ]
  },
  {
   "cell_type": "code",
   "execution_count": null,
   "metadata": {},
   "outputs": [],
   "source": []
  },
  {
   "cell_type": "markdown",
   "metadata": {},
   "source": [
    "<h3 style='text-align:center'>Diccionarios</h3>"
   ]
  },
  {
   "cell_type": "code",
   "execution_count": null,
   "metadata": {
    "tags": []
   },
   "outputs": [],
   "source": [
    "# Los diccionarios es una estructura de datos en la cual podemos guardar pares de valores.\n",
    "empleados = {\n",
    "    '104': {'Nombre' : 'Juan', 'Puesto' : 'Sistemas'},\n",
    "    '06' : {'Nombre' : 'Pedro', 'Puesto' : 'Gerente'}\n",
    "}\n",
    "print(empleados['104']['Nombre'])"
   ]
  },
  {
   "cell_type": "code",
   "execution_count": null,
   "metadata": {
    "tags": []
   },
   "outputs": [],
   "source": [
    "#Para agregar una entrada al diccionario, en este caso, un nuevo empleado\n",
    "empleados['203'] = {'Nombre' : 'Eduardo', 'Puesto' : 'Mantenimiento'}\n",
    "print(empleados)"
   ]
  },
  {
   "cell_type": "markdown",
   "metadata": {},
   "source": [
    "<h3 style='text-align:center'>List Comprehension</h3>"
   ]
  },
  {
   "cell_type": "code",
   "execution_count": null,
   "metadata": {
    "tags": []
   },
   "outputs": [],
   "source": [
    "#Es una bondad de Python, llenar un diccionario o lista en una sola linea de código.\n",
    "\n",
    "#¿Cómo le hariamos para llenar una lista con todos los números impares hasta el 100?\n",
    "\n",
    "#Podriamos tener el siguiente código\n",
    "impares = [] #inicializamos la lista vacia\n",
    "for i in range(101): #recuerden que el for termina en n-1, o sea que el ultimo número en evaluar sería el 100\n",
    "    if i % 2 != 0:\n",
    "        impares.append(i)\n",
    "    else:\n",
    "        pass\n",
    "print(impares)"
   ]
  },
  {
   "cell_type": "code",
   "execution_count": null,
   "metadata": {
    "tags": []
   },
   "outputs": [],
   "source": [
    "#Ahora con List comprehension!!\n",
    "imp = [x for x in range(101) if x % 2 != 0]\n",
    "print(imp)"
   ]
  },
  {
   "cell_type": "markdown",
   "metadata": {},
   "source": [
    "## EJEMPLO GRAFICA"
   ]
  },
  {
   "cell_type": "code",
   "execution_count": null,
   "metadata": {},
   "outputs": [],
   "source": []
  },
  {
   "cell_type": "markdown",
   "metadata": {},
   "source": [
    "## Problema de ejemplo\n",
    "#### Fizz Buzzz\n",
    "Escribe un programa que recibe una entrada N y su salida es una lista con cadenas de texto siguiendo la siguiente regla.\n",
    "- Para los múltiplos de 3, la salida es \"Fizz\"\n",
    "- Para los múltiplos de 5, la salida es \"Buzz\"\n",
    "- Para cualquier otro número la salida es el mismo número N\n",
    "##### Ejemplo de salida\n",
    "\n",
    "```Python\n",
    "n = 5,\n",
    "\n",
    "Return:\n",
    "[\n",
    "    \"1\",\n",
    "    \"2\",\n",
    "    \"Fizz\",\n",
    "    \"4\",\n",
    "    \"Buzz\"\n",
    "]\n",
    "```  "
   ]
  },
  {
   "cell_type": "code",
   "execution_count": null,
   "metadata": {},
   "outputs": [],
   "source": [
    "def queEs(n) :\n",
    "    if n % 3 == 0 and n % 5 == 0:\n",
    "        return 'FizzBuzz'\n",
    "    elif n % 3 == 0 :\n",
    "        return 'Fizz'\n",
    "    elif n % 5 == 0 :\n",
    "        return 'Buzz'\n",
    "    else:\n",
    "        return str(n)\n",
    "\n",
    "n=5\n",
    "\n",
    "list = [queEs(num) for num in range(1,n+1)]\n",
    "\n",
    "print(list)"
   ]
  }
 ],
 "metadata": {
  "kernelspec": {
   "display_name": "Python 3",
   "language": "python",
   "name": "python3"
  },
  "language_info": {
   "codemirror_mode": {
    "name": "ipython",
    "version": 3
   },
   "file_extension": ".py",
   "mimetype": "text/x-python",
   "name": "python",
   "nbconvert_exporter": "python",
   "pygments_lexer": "ipython3",
   "version": "3.8.5"
  }
 },
 "nbformat": 4,
 "nbformat_minor": 2
}
