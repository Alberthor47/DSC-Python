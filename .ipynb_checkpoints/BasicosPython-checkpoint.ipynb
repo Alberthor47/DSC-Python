{
 "cells": [
  {
   "cell_type": "markdown",
   "metadata": {},
   "source": [
    "<h1 style = 'text-align:center'>\n",
    "Bienvenidos al curso de básicos de python!\n",
    "</h1>\n",
    "<center>\n",
    "<img src = 'https://scontent.fmex10-2.fna.fbcdn.net/v/t1.0-9/118343119_113233783831611_9219337719937477698_o.png?_nc_cat=102&_nc_sid=09cbfe&_nc_ohc=R-1ZQ2HIIS8AX8BJJQ-&_nc_ht=scontent.fmex10-2.fna&oh=903d344ae760a69e7fa26e9803825550&oe=5F9AA7D4'\n",
    "alt = 'DSC' height = '350' width = '550'>\n",
    "\n",
    "</center>"
   ]
  },
  {
   "cell_type": "markdown",
   "metadata": {},
   "source": [
    "# <h3 style='text-align:center'>¿Qué es Python?</h3>"
   ]
  },
  {
   "cell_type": "markdown",
   "metadata": {},
   "source": [
    "<img src='https://upload.wikimedia.org/wikipedia/commons/thumb/0/0a/Python.svg/1200px-Python.svg.png' alt='python-logo' height='200' width='200'></img>\n",
    "<p style='text-align: justify'>Python es un lenguaje de programación interpretado, multiparadigma </p>\n",
    "<p style='text-align: justify'>Esto significa que los programadores pueden adoptar el estílo que más les convenga, el lenguaje no obliga el uso de algún paradigma en específico. Estos pueden ser los siguientes:\n",
    "</p>\n",
    "\n",
    "   - Programación orientada a objetos\n",
    "    \n",
    "   - Programación imperativa\n",
    "    \n",
    "   - Programación funcional"
   ]
  },
  {
   "cell_type": "markdown",
   "metadata": {},
   "source": [
    "<h1 style='text-align:center'>Operadores Aritméticos en python<h1>"
   ]
  },
  {
   "cell_type": "markdown",
   "metadata": {},
   "source": [
    "<h2 style='text-align:center'>Suma</h2>\n",
    "    <p>Dependiendo de que tipo de dato estemos ocupando el operador suma se comportara diferente forma\n",
    "    <br>Ejemplo: \n",
    "    <br>- 2 enteros\n",
    "    <br>- 2 float\n",
    "    <br>- 2 booleano\n",
    "    <br>- 2 cadenas de caracteres\n",
    "</p>"
   ]
  },
  {
   "cell_type": "code",
   "execution_count": 10,
   "metadata": {},
   "outputs": [
    {
     "data": {
      "text/plain": [
       "4"
      ]
     },
     "execution_count": 10,
     "metadata": {},
     "output_type": "execute_result"
    }
   ],
   "source": [
    "#Con 2 enteros \n",
    "2 + 2"
   ]
  },
  {
   "cell_type": "code",
   "execution_count": 14,
   "metadata": {},
   "outputs": [
    {
     "data": {
      "text/plain": [
       "2.7"
      ]
     },
     "execution_count": 14,
     "metadata": {},
     "output_type": "execute_result"
    }
   ],
   "source": [
    "#Con 2 float\n",
    "1.3 + 1.4 "
   ]
  },
  {
   "cell_type": "code",
   "execution_count": 20,
   "metadata": {},
   "outputs": [
    {
     "data": {
      "text/plain": [
       "5"
      ]
     },
     "execution_count": 20,
     "metadata": {},
     "output_type": "execute_result"
    }
   ],
   "source": [
    "#Booleano\n",
    "True + True"
   ]
  },
  {
   "cell_type": "code",
   "execution_count": 13,
   "metadata": {},
   "outputs": [
    {
     "data": {
      "text/plain": [
       "'Hola Mundo'"
      ]
     },
     "execution_count": 13,
     "metadata": {},
     "output_type": "execute_result"
    }
   ],
   "source": [
    "#Con 2 Cadenas de Caracteres\n",
    "'Hola' + ' Mundo'"
   ]
  },
  {
   "cell_type": "markdown",
   "metadata": {},
   "source": [
    "<h2 style='text-align:center'>Resta</h2>\n",
    "    <p>Dependiendo de que tipo de dato estemos ocupando el operador resta se comportara diferente forma\n",
    "    <br>Ejemplo: \n",
    "    <br>- 2 enteros\n",
    "    <br>- 2 float\n",
    "    <br>- 2 booleano\n",
    "    <br>- 2 cadenas de caracteres\n",
    "</p>"
   ]
  },
  {
   "cell_type": "code",
   "execution_count": 29,
   "metadata": {},
   "outputs": [
    {
     "data": {
      "text/plain": [
       "-0.09999999999999987"
      ]
     },
     "execution_count": 29,
     "metadata": {},
     "output_type": "execute_result"
    }
   ],
   "source": [
    "#Con 2 enteros \n",
    "7 - 2"
   ]
  },
  {
   "cell_type": "code",
   "execution_count": 22,
   "metadata": {},
   "outputs": [
    {
     "data": {
      "text/plain": [
       "-0.09999999999999987"
      ]
     },
     "execution_count": 22,
     "metadata": {},
     "output_type": "execute_result"
    }
   ],
   "source": [
    "#Con 2 float\n",
    "1.3 - 1.4 "
   ]
  },
  {
   "cell_type": "code",
   "execution_count": 25,
   "metadata": {},
   "outputs": [
    {
     "data": {
      "text/plain": [
       "0"
      ]
     },
     "execution_count": 25,
     "metadata": {},
     "output_type": "execute_result"
    }
   ],
   "source": [
    "#Booleano\n",
    "True - True"
   ]
  },
  {
   "cell_type": "code",
   "execution_count": 28,
   "metadata": {},
   "outputs": [
    {
     "ename": "TypeError",
     "evalue": "unsupported operand type(s) for -: 'str' and 'str'",
     "output_type": "error",
     "traceback": [
      "\u001b[0;31m---------------------------------------------------------------------------\u001b[0m",
      "\u001b[0;31mTypeError\u001b[0m                                 Traceback (most recent call last)",
      "\u001b[0;32m<ipython-input-28-04012b624588>\u001b[0m in \u001b[0;36m<module>\u001b[0;34m\u001b[0m\n\u001b[1;32m      1\u001b[0m \u001b[0;31m#Con 2 Cadenas de Caracteres Esta dara error ya que este operador no funciona con Strings\u001b[0m\u001b[0;34m\u001b[0m\u001b[0;34m\u001b[0m\u001b[0;34m\u001b[0m\u001b[0m\n\u001b[0;32m----> 2\u001b[0;31m \u001b[0;34m'Hola'\u001b[0m \u001b[0;34m-\u001b[0m \u001b[0;34m' Mundo'\u001b[0m\u001b[0;34m\u001b[0m\u001b[0;34m\u001b[0m\u001b[0m\n\u001b[0m",
      "\u001b[0;31mTypeError\u001b[0m: unsupported operand type(s) for -: 'str' and 'str'"
     ]
    }
   ],
   "source": [
    "#Con 2 Cadenas de Caracteresdara error ya que este operador no funciona con Strings\n",
    "#'Hola' - ' Mundo'"
   ]
  },
  {
   "cell_type": "markdown",
   "metadata": {},
   "source": [
    "<h2 style='text-align:center'>Multiplicacion</h2>\n",
    "    <p>Dependiendo de que tipo de dato estemos ocupando el operador multiplicacion se comportara diferente forma\n",
    "    <br>Ejemplo: \n",
    "    <br>- 2 enteros\n",
    "    <br>- 2 float\n",
    "    <br>- 2 booleano\n",
    "    <br>- 2 cadenas de caracteres\n",
    "    <br>- Multiplicar cadenas por un entero\n",
    "</p>"
   ]
  },
  {
   "cell_type": "code",
   "execution_count": 30,
   "metadata": {},
   "outputs": [
    {
     "data": {
      "text/plain": [
       "14"
      ]
     },
     "execution_count": 30,
     "metadata": {},
     "output_type": "execute_result"
    }
   ],
   "source": [
    "#Con 2 enteros \n",
    "7 * 2"
   ]
  },
  {
   "cell_type": "code",
   "execution_count": 31,
   "metadata": {},
   "outputs": [
    {
     "data": {
      "text/plain": [
       "15.7352"
      ]
     },
     "execution_count": 31,
     "metadata": {},
     "output_type": "execute_result"
    }
   ],
   "source": [
    "#Con 2 float \n",
    "7.12 * 2.21"
   ]
  },
  {
   "cell_type": "code",
   "execution_count": 32,
   "metadata": {},
   "outputs": [
    {
     "data": {
      "text/plain": [
       "1"
      ]
     },
     "execution_count": 32,
     "metadata": {},
     "output_type": "execute_result"
    }
   ],
   "source": [
    "#Con 2 enteros \n",
    "True * True"
   ]
  },
  {
   "cell_type": "code",
   "execution_count": 35,
   "metadata": {},
   "outputs": [],
   "source": [
    "#Con 2 Cadenas de Caracteres\n",
    "#Esta operacion nos dara un error como el siguiente \n",
    "#TypeError: can't multiply sequence by non-int of type 'str'\n",
    "#'Hola' * ' Mundo'"
   ]
  },
  {
   "cell_type": "code",
   "execution_count": 36,
   "metadata": {},
   "outputs": [
    {
     "data": {
      "text/plain": [
       "'Google Google Google Google Google Google Google Google Google Google '"
      ]
     },
     "execution_count": 36,
     "metadata": {},
     "output_type": "execute_result"
    }
   ],
   "source": [
    "#Podemos multiplicar cadenas de caracteres\n",
    "'Google '*10"
   ]
  },
  {
   "cell_type": "markdown",
   "metadata": {},
   "source": [
    "<h2 style='text-align:center'>Exponente</h2>\n",
    "    <p>Dependiendo de que tipo de dato estemos ocupando el operador exponente se comportara diferente forma\n",
    "    <br>Ejemplo: \n",
    "    <br>- 2 enteros\n",
    "    <br>- 2 float\n",
    "    <br>- 2 booleano\n",
    "    <br>- 2 cadenas de caracteres\n",
    "    <br>- Multiplicar cadenas por un entero\n",
    "</p>"
   ]
  },
  {
   "cell_type": "code",
   "execution_count": 37,
   "metadata": {},
   "outputs": [
    {
     "data": {
      "text/plain": [
       "49"
      ]
     },
     "execution_count": 37,
     "metadata": {},
     "output_type": "execute_result"
    }
   ],
   "source": [
    "#Con 2 enteros \n",
    "7 ** 2"
   ]
  },
  {
   "cell_type": "code",
   "execution_count": 38,
   "metadata": {},
   "outputs": [
    {
     "data": {
      "text/plain": [
       "65.00967670007661"
      ]
     },
     "execution_count": 38,
     "metadata": {},
     "output_type": "execute_result"
    }
   ],
   "source": [
    "#Con 2 float \n",
    "7.3 ** 2.1"
   ]
  },
  {
   "cell_type": "code",
   "execution_count": 40,
   "metadata": {},
   "outputs": [
    {
     "data": {
      "text/plain": [
       "1"
      ]
     },
     "execution_count": 40,
     "metadata": {},
     "output_type": "execute_result"
    }
   ],
   "source": [
    "#Con 2 enteros \n",
    "True ** True"
   ]
  },
  {
   "cell_type": "code",
   "execution_count": 43,
   "metadata": {},
   "outputs": [],
   "source": [
    "#Con 2 Cadenas de Caracteres\n",
    "#Esta operacion nos dara un error como el siguiente \n",
    "#TypeError: unsupported operand type(s) for ** or pow(): 'str' and 'str'\n",
    "#'Hola' ** ' Mundo'"
   ]
  },
  {
   "cell_type": "markdown",
   "metadata": {},
   "source": [
    "<h2 style='text-align:center'>División</h2>\n",
    "    <p>Dependiendo de que tipo de dato estemos ocupando el operador exponente se comportara diferente forma\n",
    "    <br>Ejemplo: \n",
    "    <br>- 2 enteros\n",
    "    <br>- 2 float\n",
    "    <br>- 2 booleano\n",
    "    <br>- 2 cadenas de caracteres\n",
    "    <br>- Multiplicar cadenas por un entero\n",
    "</p>"
   ]
  },
  {
   "cell_type": "code",
   "execution_count": 46,
   "metadata": {},
   "outputs": [],
   "source": [
    "# <h3 style='text-align:center'>Tipos de datos</h3>"
   ]
  },
  {
   "cell_type": "markdown",
   "metadata": {},
   "source": [
    " <h3 style='text-align:center'>Tipos de datos</h3>"
   ]
  },
  {
   "cell_type": "markdown",
   "metadata": {},
   "source": [
    "|Tipo | Clase | Notas | Ejemplo\n",
    "| --  |  --   |--     | --\n",
    "|str|Cadena|Inmutable|'Cadena'\n",
    "|unicode|Cadena|Versión Unicode de str|u'Cadena'\n",
    "|list|Secuencia|Mutable, puede contener objetos de diversos tipos|[4.0, 'Cadena', True]\n",
    "|tuple|Secuencia|Inmutable, puede contener objetos de diversos tipo|(4.0, 'Cadena', True)\n",
    "|set|Conjunto|Mutable, sin orden, no contiene duplicados |set([4.0, 'Cadena', True]) \n",
    "|frozenset|Conjunto|Inmutable, sin orden, no contiene duplicados |frozenset([4.0, 'Cadena', True]) \n",
    "|dict|Mapping|Grupo de pares clave:valor | {'key1': 1.0, 'key2': False} \n",
    "|int|Número entero |Precisión fija, convertido en long en caso de overflow. | 42\n",
    "|long|Número entero |Precisión arbitraria | 42L ó 456966786151987643L \n",
    "|float|Número decimal |Coma flotante de doble precisión |3.1415927 \n",
    "|complex |Número complejo |Parte real y parte imaginaria | (4.5 + 3j) \n",
    "|bool |Booleano|Valor booleano verdadero o falso | True o False "
   ]
  },
  {
   "cell_type": "code",
   "execution_count": 1,
   "metadata": {},
   "outputs": [
    {
     "name": "stdout",
     "output_type": "stream",
     "text": [
      "HOla\n"
     ]
    }
   ],
   "source": [
    "def suma(a,b):\n",
    "    return a + b\n",
    "print('HOla')"
   ]
  },
  {
   "cell_type": "code",
   "execution_count": null,
   "metadata": {
    "tags": []
   },
   "outputs": [],
   "source": [
    "# El tipo de dato string se puede 'unir' con ' + ', a esto se le conoce como concatenar. \n",
    "string1 = 'La irregularidad la llevo'\n",
    "string2 = ' en la sangre.'\n",
    "print(suma(string1,string2))"
   ]
  },
  {
   "cell_type": "code",
   "execution_count": null,
   "metadata": {
    "tags": []
   },
   "outputs": [],
   "source": [
    "x = 1#int\n",
    "y = 2 #int\n",
    "z = 3.0 #float\n",
    "print(suma(x,y)) # int + int = int\n",
    "print(suma(x,z)) # int + float = float"
   ]
  },
  {
   "cell_type": "markdown",
   "metadata": {},
   "source": [
    "<h3 style='text-align:center'>Inserte subtitulo</h3>"
   ]
  },
  {
   "cell_type": "markdown",
   "metadata": {},
   "source": [
    "<h3 style='text-align:center'>Inserte subtitulo</h3>"
   ]
  },
  {
   "cell_type": "markdown",
   "metadata": {},
   "source": [
    "<h3 style='text-align:center'>Inserte subtitulo</h3>"
   ]
  },
  {
   "cell_type": "markdown",
   "metadata": {},
   "source": [
    "<h3 style='text-align:center'>Listas</h3>"
   ]
  },
  {
   "cell_type": "code",
   "execution_count": 2,
   "metadata": {
    "tags": []
   },
   "outputs": [
    {
     "name": "stdout",
     "output_type": "stream",
     "text": [
      "string\n",
      "133\n",
      "13.33333\n",
      "('estanoesuntuple', 10)\n",
      "{'manzana': 'verde', 'fresa': 'roja'}\n",
      "\n",
      "\n",
      " 133\n"
     ]
    }
   ],
   "source": [
    "#Las listas pueden almacenar todos los tipos de datos y se puede ingresar a ellas mediante un indice o iterando sus elementos\n",
    "variado = ['string', 133, 13.33333, ('estanoesuntuple', 10), {'manzana':'verde', 'fresa':'roja'}]\n",
    "for i in variado:\n",
    "    print(i)\n",
    "\n",
    "print('\\n\\n', variado[1])"
   ]
  },
  {
   "cell_type": "code",
   "execution_count": 3,
   "metadata": {
    "tags": []
   },
   "outputs": [
    {
     "name": "stdout",
     "output_type": "stream",
     "text": [
      "['string', 133, 13.33333, ('estanoesuntuple', 10), {'manzana': 'verde', 'fresa': 'roja'}, 'Nuevo elemento'] \n",
      "\n",
      "['string', 133, 13.33333, {'manzana': 'verde', 'fresa': 'roja'}, 'Nuevo elemento'] \n",
      "\n",
      "['Nuevo elemento', {'manzana': 'verde', 'fresa': 'roja'}, 13.33333, 133, 'string'] \n",
      "\n"
     ]
    },
    {
     "data": {
      "text/plain": [
       "\"Otros métodos que existen son:\\nlista.sort() ordena la lista ascendentemente\\nlista.count( elemento ) devuelve un valor entero de las veces que se repite 'elemento\\nlista.clear() vacía la lista\\n\""
      ]
     },
     "execution_count": 3,
     "metadata": {},
     "output_type": "execute_result"
    }
   ],
   "source": [
    "#Algunos metodos para trabajar con listas\n",
    "variado.append('Nuevo elemento') #Añade un nuevo elemento al final de la lista\n",
    "print(variado, '\\n')\n",
    "variado.pop(3)#Elimina al elemento en el índice indicado\n",
    "print(variado, '\\n')\n",
    "variado.reverse() #Iniverte el orden de la lista\n",
    "print(variado, '\\n')\n",
    "'''Otros métodos que existen son:\n",
    "lista.sort() ordena la lista ascendentemente\n",
    "lista.count( elemento ) devuelve un valor entero de las veces que se repite 'elemento\n",
    "lista.clear() vacía la lista\n",
    "'''"
   ]
  },
  {
   "cell_type": "code",
   "execution_count": null,
   "metadata": {},
   "outputs": [],
   "source": []
  },
  {
   "cell_type": "markdown",
   "metadata": {},
   "source": [
    "<h3 style='text-align:center'>Diccionarios</h3>"
   ]
  },
  {
   "cell_type": "code",
   "execution_count": 4,
   "metadata": {
    "tags": []
   },
   "outputs": [
    {
     "name": "stdout",
     "output_type": "stream",
     "text": [
      "Juan\n"
     ]
    }
   ],
   "source": [
    "# Los diccionarios es una estructura de datos en la cual podemos guardar pares de valores.\n",
    "empleados = {\n",
    "    '104': {'Nombre' : 'Juan', 'Puesto' : 'Sistemas'},\n",
    "    '06' : {'Nombre' : 'Pedro', 'Puesto' : 'Gerente'}\n",
    "}\n",
    "print(empleados['104']['Nombre'])"
   ]
  },
  {
   "cell_type": "code",
   "execution_count": 5,
   "metadata": {
    "tags": []
   },
   "outputs": [
    {
     "name": "stdout",
     "output_type": "stream",
     "text": [
      "{'104': {'Nombre': 'Juan', 'Puesto': 'Sistemas'}, '06': {'Nombre': 'Pedro', 'Puesto': 'Gerente'}, '203': {'Nombre': 'Eduardo', 'Puesto': 'Mantenimiento'}}\n"
     ]
    }
   ],
   "source": [
    "#Para agregar una entrada al diccionario, en este caso, un nuevo empleado\n",
    "empleados['203'] = {'Nombre' : 'Eduardo', 'Puesto' : 'Mantenimiento'}\n",
    "print(empleados)"
   ]
  },
  {
   "cell_type": "markdown",
   "metadata": {},
   "source": [
    "<h3 style='text-align:center'>List Comprehension</h3>"
   ]
  },
  {
   "cell_type": "code",
   "execution_count": 6,
   "metadata": {
    "tags": []
   },
   "outputs": [
    {
     "name": "stdout",
     "output_type": "stream",
     "text": [
      "[1, 3, 5, 7, 9, 11, 13, 15, 17, 19, 21, 23, 25, 27, 29, 31, 33, 35, 37, 39, 41, 43, 45, 47, 49, 51, 53, 55, 57, 59, 61, 63, 65, 67, 69, 71, 73, 75, 77, 79, 81, 83, 85, 87, 89, 91, 93, 95, 97, 99]\n"
     ]
    }
   ],
   "source": [
    "#Es una bondad de Python, llenar un diccionario o lista en una sola linea de código.\n",
    "\n",
    "#¿Cómo le hariamos para llenar una lista con todos los números impares hasta el 100?\n",
    "\n",
    "#Podriamos tener el siguiente código\n",
    "impares = [] #inicializamos la lista vacia\n",
    "for i in range(101): #recuerden que el for termina en n-1, o sea que el ultimo número en evaluar sería el 100\n",
    "    if i % 2 != 0:\n",
    "        impares.append(i)\n",
    "    else:\n",
    "        pass\n",
    "print(impares)"
   ]
  },
  {
   "cell_type": "code",
   "execution_count": 7,
   "metadata": {
    "tags": []
   },
   "outputs": [
    {
     "name": "stdout",
     "output_type": "stream",
     "text": [
      "[1, 3, 5, 7, 9, 11, 13, 15, 17, 19, 21, 23, 25, 27, 29, 31, 33, 35, 37, 39, 41, 43, 45, 47, 49, 51, 53, 55, 57, 59, 61, 63, 65, 67, 69, 71, 73, 75, 77, 79, 81, 83, 85, 87, 89, 91, 93, 95, 97, 99]\n"
     ]
    }
   ],
   "source": [
    "#Ahora con List comprehension!!\n",
    "imp = [x for x in range(101) if x % 2 != 0]\n",
    "print(imp)"
   ]
  },
  {
   "cell_type": "code",
   "execution_count": null,
   "metadata": {},
   "outputs": [],
   "source": []
  }
 ],
 "metadata": {
  "kernelspec": {
   "display_name": "Python 3",
   "language": "python",
   "name": "python3"
  },
  "language_info": {
   "codemirror_mode": {
    "name": "ipython",
    "version": 3
   },
   "file_extension": ".py",
   "mimetype": "text/x-python",
   "name": "python",
   "nbconvert_exporter": "python",
   "pygments_lexer": "ipython3",
   "version": "3.6.9"
  }
 },
 "nbformat": 4,
 "nbformat_minor": 2
}
